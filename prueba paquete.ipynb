{
 "cells": [
  {
   "cell_type": "code",
   "execution_count": 4,
   "id": "c16bb527-9cb2-433e-97bc-9a2d3719e7cb",
   "metadata": {},
   "outputs": [],
   "source": [
    "from paquete_mooc import operaciones as op"
   ]
  },
  {
   "cell_type": "code",
   "execution_count": 5,
   "id": "01e7ef0b-4071-47d3-bd12-301c499d7946",
   "metadata": {},
   "outputs": [
    {
     "data": {
      "text/plain": [
       "5"
      ]
     },
     "execution_count": 5,
     "metadata": {},
     "output_type": "execute_result"
    }
   ],
   "source": [
    "op.suma_numeros(2,3)"
   ]
  },
  {
   "cell_type": "code",
   "execution_count": 6,
   "id": "32065b67-80ed-4bb4-9a62-8d1c72a56edb",
   "metadata": {},
   "outputs": [
    {
     "data": {
      "text/plain": [
       "-2"
      ]
     },
     "execution_count": 6,
     "metadata": {},
     "output_type": "execute_result"
    }
   ],
   "source": [
    "op.resta_numeros(2,4)"
   ]
  }
 ],
 "metadata": {
  "kernelspec": {
   "display_name": "Python 3 (ipykernel)",
   "language": "python",
   "name": "python3"
  },
  "language_info": {
   "codemirror_mode": {
    "name": "ipython",
    "version": 3
   },
   "file_extension": ".py",
   "mimetype": "text/x-python",
   "name": "python",
   "nbconvert_exporter": "python",
   "pygments_lexer": "ipython3",
   "version": "3.13.0"
  }
 },
 "nbformat": 4,
 "nbformat_minor": 5
}
